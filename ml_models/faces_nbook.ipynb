{
 "cells": [
  {
   "metadata": {},
   "cell_type": "markdown",
   "source": "# Face Recognoition Notebook",
   "id": "c2594deec5fe2732"
  },
  {
   "cell_type": "code",
   "id": "initial_id",
   "metadata": {
    "collapsed": true,
    "ExecuteTime": {
     "end_time": "2024-09-07T13:17:13.732197Z",
     "start_time": "2024-09-07T13:17:13.726333Z"
    }
   },
   "source": "print(\"hello world\")",
   "outputs": [
    {
     "name": "stdout",
     "output_type": "stream",
     "text": [
      "hello world\n"
     ]
    }
   ],
   "execution_count": 2
  },
  {
   "metadata": {
    "ExecuteTime": {
     "end_time": "2024-09-07T13:42:59.290176Z",
     "start_time": "2024-09-07T13:33:56.010010Z"
    }
   },
   "cell_type": "code",
   "source": "# !pip install opencv-python==4.10.0.84",
   "id": "1a2944af1a16c58",
   "outputs": [
    {
     "name": "stdout",
     "output_type": "stream",
     "text": [
      "Collecting opencv-python==4.10.0.84\r\n",
      "  Using cached opencv_python-4.10.0.84-cp37-abi3-manylinux_2_17_x86_64.manylinux2014_x86_64.whl.metadata (20 kB)\r\n",
      "Requirement already satisfied: numpy>=1.21.2 in /home/setoudie/PycharmProjects/ELK_project/.venv/lib/python3.11/site-packages (from opencv-python==4.10.0.84) (2.1.0)\r\n",
      "Downloading opencv_python-4.10.0.84-cp37-abi3-manylinux_2_17_x86_64.manylinux2014_x86_64.whl (62.5 MB)\r\n",
      "\u001B[2K   \u001B[90m━━━━━━━━━━━━━━━━━━━━━━━━━━━━━━━━━━━━━━━━\u001B[0m \u001B[32m62.5/62.5 MB\u001B[0m \u001B[31m154.2 kB/s\u001B[0m eta \u001B[36m0:00:00\u001B[0m00:02\u001B[0m00:11\u001B[0m\r\n",
      "\u001B[?25hInstalling collected packages: opencv-python\r\n",
      "Successfully installed opencv-python-4.10.0.84\r\n"
     ]
    }
   ],
   "execution_count": 1
  },
  {
   "metadata": {
    "ExecuteTime": {
     "end_time": "2024-09-08T17:30:19.482975Z",
     "start_time": "2024-09-08T17:30:04.635951Z"
    }
   },
   "cell_type": "code",
   "source": [
    "# !pip install matplotlib\n",
    "!pip install face_recognition"
   ],
   "id": "98ab3d097a407c4b",
   "outputs": [
    {
     "name": "stdout",
     "output_type": "stream",
     "text": [
      "Collecting face_recognition\r\n",
      "  Using cached face_recognition-1.3.0-py2.py3-none-any.whl.metadata (21 kB)\r\n",
      "Collecting face-recognition-models>=0.3.0 (from face_recognition)\r\n",
      "  Using cached face_recognition_models-0.3.0-py2.py3-none-any.whl\r\n",
      "Collecting Click>=6.0 (from face_recognition)\r\n",
      "  Using cached click-8.1.7-py3-none-any.whl.metadata (3.0 kB)\r\n",
      "Collecting dlib>=19.7 (from face_recognition)\r\n",
      "  Using cached dlib-19.24.6.tar.gz (3.4 MB)\r\n",
      "  Preparing metadata (setup.py) ... \u001B[?25ldone\r\n",
      "\u001B[?25hRequirement already satisfied: numpy in ./.ml_env/lib/python3.11/site-packages (from face_recognition) (2.1.1)\r\n",
      "Collecting Pillow (from face_recognition)\r\n",
      "  Using cached pillow-10.4.0-cp311-cp311-manylinux_2_28_x86_64.whl.metadata (9.2 kB)\r\n",
      "Using cached face_recognition-1.3.0-py2.py3-none-any.whl (15 kB)\r\n",
      "Using cached click-8.1.7-py3-none-any.whl (97 kB)\r\n",
      "Using cached pillow-10.4.0-cp311-cp311-manylinux_2_28_x86_64.whl (4.5 MB)\r\n",
      "Building wheels for collected packages: dlib\r\n",
      "  Building wheel for dlib (setup.py) ... \u001B[?25lerror\r\n",
      "  \u001B[1;31merror\u001B[0m: \u001B[1msubprocess-exited-with-error\u001B[0m\r\n",
      "  \r\n",
      "  \u001B[31m×\u001B[0m \u001B[32mpython setup.py bdist_wheel\u001B[0m did not run successfully.\r\n",
      "  \u001B[31m│\u001B[0m exit code: \u001B[1;36m1\u001B[0m\r\n",
      "  \u001B[31m╰─>\u001B[0m \u001B[31m[158 lines of output]\u001B[0m\r\n",
      "  \u001B[31m   \u001B[0m running bdist_wheel\r\n",
      "  \u001B[31m   \u001B[0m running build\r\n",
      "  \u001B[31m   \u001B[0m running build_ext\r\n",
      "  \u001B[31m   \u001B[0m Building extension for Python 3.11.0rc1 (main, Aug 12 2022, 10:02:14) [GCC 11.2.0]\r\n",
      "  \u001B[31m   \u001B[0m Invoking CMake setup: 'cmake /tmp/pip-install-imtauh0z/dlib_5f88a36d391b41ebaf53bdb8a7bd4bd1/tools/python -DCMAKE_LIBRARY_OUTPUT_DIRECTORY=/tmp/pip-install-imtauh0z/dlib_5f88a36d391b41ebaf53bdb8a7bd4bd1/build/lib.linux-x86_64-cpython-311 -DPYTHON_EXECUTABLE=/home/setoudie/PycharmProjects/CelebrityFacesRecognitions/ml_models/.ml_env/bin/python -DDLIB_USE_FFMPEG=OFF -DCMAKE_BUILD_TYPE=Release'\r\n",
      "  \u001B[31m   \u001B[0m -- The C compiler identification is GNU 11.4.0\r\n",
      "  \u001B[31m   \u001B[0m -- The CXX compiler identification is GNU 11.4.0\r\n",
      "  \u001B[31m   \u001B[0m -- Detecting C compiler ABI info\r\n",
      "  \u001B[31m   \u001B[0m -- Detecting C compiler ABI info - done\r\n",
      "  \u001B[31m   \u001B[0m -- Check for working C compiler: /usr/bin/cc - skipped\r\n",
      "  \u001B[31m   \u001B[0m -- Detecting C compile features\r\n",
      "  \u001B[31m   \u001B[0m -- Detecting C compile features - done\r\n",
      "  \u001B[31m   \u001B[0m -- Detecting CXX compiler ABI info\r\n",
      "  \u001B[31m   \u001B[0m -- Detecting CXX compiler ABI info - done\r\n",
      "  \u001B[31m   \u001B[0m -- Check for working CXX compiler: /usr/bin/c++ - skipped\r\n",
      "  \u001B[31m   \u001B[0m -- Detecting CXX compile features\r\n",
      "  \u001B[31m   \u001B[0m -- Detecting CXX compile features - done\r\n",
      "  \u001B[31m   \u001B[0m -- pybind11 v2.12.0\r\n",
      "  \u001B[31m   \u001B[0m -- Found PythonInterp: /home/setoudie/PycharmProjects/CelebrityFacesRecognitions/ml_models/.ml_env/bin/python (found suitable version \"3.11\", minimum required is \"3.6\")\r\n",
      "  \u001B[31m   \u001B[0m -- Found PythonLibs: python3.11\r\n",
      "  \u001B[31m   \u001B[0m -- Performing Test HAS_FLTO\r\n",
      "  \u001B[31m   \u001B[0m -- Performing Test HAS_FLTO - Success\r\n",
      "  \u001B[31m   \u001B[0m -- Using CMake version: 3.27.5\r\n",
      "  \u001B[31m   \u001B[0m -- Compiling dlib version: 19.24.6\r\n",
      "  \u001B[31m   \u001B[0m -- SSE4 instructions can be executed by the host processor.\r\n",
      "  \u001B[31m   \u001B[0m -- AVX instructions can be executed by the host processor.\r\n",
      "  \u001B[31m   \u001B[0m -- Enabling AVX instructions\r\n",
      "  \u001B[31m   \u001B[0m -- Performing Test CMAKE_HAVE_LIBC_PTHREAD\r\n",
      "  \u001B[31m   \u001B[0m -- Performing Test CMAKE_HAVE_LIBC_PTHREAD - Success\r\n",
      "  \u001B[31m   \u001B[0m -- Found Threads: TRUE\r\n",
      "  \u001B[31m   \u001B[0m -- Found X11: /usr/include\r\n",
      "  \u001B[31m   \u001B[0m -- Looking for XOpenDisplay in /usr/lib/x86_64-linux-gnu/libX11.so;/usr/lib/x86_64-linux-gnu/libXext.so\r\n",
      "  \u001B[31m   \u001B[0m -- Looking for XOpenDisplay in /usr/lib/x86_64-linux-gnu/libX11.so;/usr/lib/x86_64-linux-gnu/libXext.so - found\r\n",
      "  \u001B[31m   \u001B[0m -- Looking for gethostbyname\r\n",
      "  \u001B[31m   \u001B[0m -- Looking for gethostbyname - found\r\n",
      "  \u001B[31m   \u001B[0m -- Looking for connect\r\n",
      "  \u001B[31m   \u001B[0m -- Looking for connect - found\r\n",
      "  \u001B[31m   \u001B[0m -- Looking for remove\r\n",
      "  \u001B[31m   \u001B[0m -- Looking for remove - found\r\n",
      "  \u001B[31m   \u001B[0m -- Looking for shmat\r\n",
      "  \u001B[31m   \u001B[0m -- Looking for shmat - found\r\n",
      "  \u001B[31m   \u001B[0m -- Looking for IceConnectionNumber in ICE\r\n",
      "  \u001B[31m   \u001B[0m -- Looking for IceConnectionNumber in ICE - found\r\n",
      "  \u001B[31m   \u001B[0m -- Found system copy of libpng: /usr/lib/x86_64-linux-gnu/libpng.so;/usr/lib/x86_64-linux-gnu/libz.so\r\n",
      "  \u001B[31m   \u001B[0m -- Found system copy of libjpeg: /usr/lib/x86_64-linux-gnu/libjpeg.so\r\n",
      "  \u001B[31m   \u001B[0m -- Searching for JPEG XL\r\n",
      "  \u001B[31m   \u001B[0m -- Found PkgConfig: /usr/bin/pkg-config (found version \"0.29.2\")\r\n",
      "  \u001B[31m   \u001B[0m -- Checking for modules 'libjxl;libjxl_cms;libjxl_threads'\r\n",
      "  \u001B[31m   \u001B[0m --   No package 'libjxl' found\r\n",
      "  \u001B[31m   \u001B[0m --   No package 'libjxl_cms' found\r\n",
      "  \u001B[31m   \u001B[0m --   No package 'libjxl_threads' found\r\n",
      "  \u001B[31m   \u001B[0m \u001B[0m *****************************************************************************\u001B[0m\r\n",
      "  \u001B[31m   \u001B[0m \u001B[0m *** No JPEG XL libraries found.                                           ***\u001B[0m\r\n",
      "  \u001B[31m   \u001B[0m \u001B[0m *** On Ubuntu 23.04 and newer you can install them by executing           ***\u001B[0m\r\n",
      "  \u001B[31m   \u001B[0m \u001B[0m ***    sudo apt install libjxl-dev                                        ***\u001B[0m\r\n",
      "  \u001B[31m   \u001B[0m \u001B[0m ***                                                                       ***\u001B[0m\r\n",
      "  \u001B[31m   \u001B[0m \u001B[0m *** Otherwise, you can find precompiled packages here:                    ***\u001B[0m\r\n",
      "  \u001B[31m   \u001B[0m \u001B[0m ***    https://github.com/libjxl/libjxl/releases                          ***\u001B[0m\r\n",
      "  \u001B[31m   \u001B[0m \u001B[0m *****************************************************************************\u001B[0m\r\n",
      "  \u001B[31m   \u001B[0m -- Searching for BLAS and LAPACK\r\n",
      "  \u001B[31m   \u001B[0m -- Searching for BLAS and LAPACK\r\n",
      "  \u001B[31m   \u001B[0m -- Checking for module 'cblas'\r\n",
      "  \u001B[31m   \u001B[0m --   No package 'cblas' found\r\n",
      "  \u001B[31m   \u001B[0m -- Checking for module 'lapack'\r\n",
      "  \u001B[31m   \u001B[0m --   Found lapack, version 0.3.20+ds\r\n",
      "  \u001B[31m   \u001B[0m -- Looking for cblas_ddot\r\n",
      "  \u001B[31m   \u001B[0m -- Looking for cblas_ddot - not found\r\n",
      "  \u001B[31m   \u001B[0m -- Looking for sys/types.h\r\n",
      "  \u001B[31m   \u001B[0m -- Looking for sys/types.h - found\r\n",
      "  \u001B[31m   \u001B[0m -- Looking for stdint.h\r\n",
      "  \u001B[31m   \u001B[0m -- Looking for stdint.h - found\r\n",
      "  \u001B[31m   \u001B[0m -- Looking for stddef.h\r\n",
      "  \u001B[31m   \u001B[0m -- Looking for stddef.h - found\r\n",
      "  \u001B[31m   \u001B[0m -- Check size of void*\r\n",
      "  \u001B[31m   \u001B[0m -- Check size of void* - done\r\n",
      "  \u001B[31m   \u001B[0m -- Found OpenBLAS library\r\n",
      "  \u001B[31m   \u001B[0m -- Looking for sgetrf_single\r\n",
      "  \u001B[31m   \u001B[0m -- Looking for sgetrf_single - found\r\n",
      "  \u001B[31m   \u001B[0m -- Using OpenBLAS's built in LAPACK\r\n",
      "  \u001B[31m   \u001B[0m -- Looking for cblas_ddot\r\n",
      "  \u001B[31m   \u001B[0m -- Looking for cblas_ddot - found\r\n",
      "  \u001B[31m   \u001B[0m -- Looking for sgesv\r\n",
      "  \u001B[31m   \u001B[0m -- Looking for sgesv - not found\r\n",
      "  \u001B[31m   \u001B[0m -- Looking for sgesv_\r\n",
      "  \u001B[31m   \u001B[0m -- Looking for sgesv_ - not found\r\n",
      "  \u001B[31m   \u001B[0m \u001B[33mCMake Warning (dev) at /tmp/pip-install-imtauh0z/dlib_5f88a36d391b41ebaf53bdb8a7bd4bd1/dlib/CMakeLists.txt:652 (find_package):\r\n",
      "  \u001B[31m   \u001B[0m   Policy CMP0146 is not set: The FindCUDA module is removed.  Run \"cmake\r\n",
      "  \u001B[31m   \u001B[0m   --help-policy CMP0146\" for policy details.  Use the cmake_policy command to\r\n",
      "  \u001B[31m   \u001B[0m   set the policy and suppress this warning.\r\n",
      "  \u001B[31m   \u001B[0m \r\n",
      "  \u001B[31m   \u001B[0m This warning is for project developers.  Use -Wno-dev to suppress it.\r\n",
      "  \u001B[31m   \u001B[0m \u001B[0m\r\n",
      "  \u001B[31m   \u001B[0m \u001B[0mCUDA_TOOLKIT_ROOT_DIR not found or specified\u001B[0m\r\n",
      "  \u001B[31m   \u001B[0m -- Could NOT find CUDA (missing: CUDA_TOOLKIT_ROOT_DIR CUDA_NVCC_EXECUTABLE CUDA_INCLUDE_DIRS CUDA_CUDART_LIBRARY) (Required is at least version \"7.5\")\r\n",
      "  \u001B[31m   \u001B[0m -- Found CUDA, but CMake was unable to find the cuBLAS libraries that should be part of every basic CUDA install. Your CUDA install is somehow broken or incomplete. Since cuBLAS is required for dlib to use CUDA we won't use CUDA.\r\n",
      "  \u001B[31m   \u001B[0m -- DID NOT FIND CUDA\r\n",
      "  \u001B[31m   \u001B[0m -- Disabling CUDA support for dlib.  DLIB WILL NOT USE CUDA\r\n",
      "  \u001B[31m   \u001B[0m -- Configuring done (8.5s)\r\n",
      "  \u001B[31m   \u001B[0m \u001B[31mCMake Error in CMakeLists.txt:\r\n",
      "  \u001B[31m   \u001B[0m   Imported target \"pybind11::module\" includes non-existent path\r\n",
      "  \u001B[31m   \u001B[0m \r\n",
      "  \u001B[31m   \u001B[0m     \"/usr/include/python3.11\"\r\n",
      "  \u001B[31m   \u001B[0m \r\n",
      "  \u001B[31m   \u001B[0m   in its INTERFACE_INCLUDE_DIRECTORIES.  Possible reasons include:\r\n",
      "  \u001B[31m   \u001B[0m \r\n",
      "  \u001B[31m   \u001B[0m   * The path was deleted, renamed, or moved to another location.\r\n",
      "  \u001B[31m   \u001B[0m \r\n",
      "  \u001B[31m   \u001B[0m   * An install or uninstall procedure did not complete successfully.\r\n",
      "  \u001B[31m   \u001B[0m \r\n",
      "  \u001B[31m   \u001B[0m   * The installation package was faulty and references files it does not\r\n",
      "  \u001B[31m   \u001B[0m   provide.\r\n",
      "  \u001B[31m   \u001B[0m \r\n",
      "  \u001B[31m   \u001B[0m \r\n",
      "  \u001B[31m   \u001B[0m \u001B[0m\r\n",
      "  \u001B[31m   \u001B[0m -- Generating done (0.0s)\r\n",
      "  \u001B[31m   \u001B[0m \u001B[0mCMake Generate step failed.  Build files cannot be regenerated correctly.\u001B[0m\r\n",
      "  \u001B[31m   \u001B[0m Traceback (most recent call last):\r\n",
      "  \u001B[31m   \u001B[0m   File \"<string>\", line 2, in <module>\r\n",
      "  \u001B[31m   \u001B[0m   File \"<pip-setuptools-caller>\", line 34, in <module>\r\n",
      "  \u001B[31m   \u001B[0m   File \"/tmp/pip-install-imtauh0z/dlib_5f88a36d391b41ebaf53bdb8a7bd4bd1/setup.py\", line 243, in <module>\r\n",
      "  \u001B[31m   \u001B[0m     setup(\r\n",
      "  \u001B[31m   \u001B[0m   File \"/home/setoudie/PycharmProjects/CelebrityFacesRecognitions/ml_models/.ml_env/lib/python3.11/site-packages/setuptools/__init__.py\", line 103, in setup\r\n",
      "  \u001B[31m   \u001B[0m     return distutils.core.setup(**attrs)\r\n",
      "  \u001B[31m   \u001B[0m            ^^^^^^^^^^^^^^^^^^^^^^^^^^^^^\r\n",
      "  \u001B[31m   \u001B[0m   File \"/home/setoudie/PycharmProjects/CelebrityFacesRecognitions/ml_models/.ml_env/lib/python3.11/site-packages/setuptools/_distutils/core.py\", line 185, in setup\r\n",
      "  \u001B[31m   \u001B[0m     return run_commands(dist)\r\n",
      "  \u001B[31m   \u001B[0m            ^^^^^^^^^^^^^^^^^^\r\n",
      "  \u001B[31m   \u001B[0m   File \"/home/setoudie/PycharmProjects/CelebrityFacesRecognitions/ml_models/.ml_env/lib/python3.11/site-packages/setuptools/_distutils/core.py\", line 201, in run_commands\r\n",
      "  \u001B[31m   \u001B[0m     dist.run_commands()\r\n",
      "  \u001B[31m   \u001B[0m   File \"/home/setoudie/PycharmProjects/CelebrityFacesRecognitions/ml_models/.ml_env/lib/python3.11/site-packages/setuptools/_distutils/dist.py\", line 969, in run_commands\r\n",
      "  \u001B[31m   \u001B[0m     self.run_command(cmd)\r\n",
      "  \u001B[31m   \u001B[0m   File \"/home/setoudie/PycharmProjects/CelebrityFacesRecognitions/ml_models/.ml_env/lib/python3.11/site-packages/setuptools/dist.py\", line 1001, in run_command\r\n",
      "  \u001B[31m   \u001B[0m     super().run_command(command)\r\n",
      "  \u001B[31m   \u001B[0m   File \"/home/setoudie/PycharmProjects/CelebrityFacesRecognitions/ml_models/.ml_env/lib/python3.11/site-packages/setuptools/_distutils/dist.py\", line 988, in run_command\r\n",
      "  \u001B[31m   \u001B[0m     cmd_obj.run()\r\n",
      "  \u001B[31m   \u001B[0m   File \"/home/setoudie/PycharmProjects/CelebrityFacesRecognitions/ml_models/.ml_env/lib/python3.11/site-packages/wheel/bdist_wheel.py\", line 364, in run\r\n",
      "  \u001B[31m   \u001B[0m     self.run_command(\"build\")\r\n",
      "  \u001B[31m   \u001B[0m   File \"/home/setoudie/PycharmProjects/CelebrityFacesRecognitions/ml_models/.ml_env/lib/python3.11/site-packages/setuptools/_distutils/cmd.py\", line 318, in run_command\r\n",
      "  \u001B[31m   \u001B[0m     self.distribution.run_command(command)\r\n",
      "  \u001B[31m   \u001B[0m   File \"/home/setoudie/PycharmProjects/CelebrityFacesRecognitions/ml_models/.ml_env/lib/python3.11/site-packages/setuptools/dist.py\", line 1001, in run_command\r\n",
      "  \u001B[31m   \u001B[0m     super().run_command(command)\r\n",
      "  \u001B[31m   \u001B[0m   File \"/home/setoudie/PycharmProjects/CelebrityFacesRecognitions/ml_models/.ml_env/lib/python3.11/site-packages/setuptools/_distutils/dist.py\", line 988, in run_command\r\n",
      "  \u001B[31m   \u001B[0m     cmd_obj.run()\r\n",
      "  \u001B[31m   \u001B[0m   File \"/home/setoudie/PycharmProjects/CelebrityFacesRecognitions/ml_models/.ml_env/lib/python3.11/site-packages/setuptools/_distutils/command/build.py\", line 131, in run\r\n",
      "  \u001B[31m   \u001B[0m     self.run_command(cmd_name)\r\n",
      "  \u001B[31m   \u001B[0m   File \"/home/setoudie/PycharmProjects/CelebrityFacesRecognitions/ml_models/.ml_env/lib/python3.11/site-packages/setuptools/_distutils/cmd.py\", line 318, in run_command\r\n",
      "  \u001B[31m   \u001B[0m     self.distribution.run_command(command)\r\n",
      "  \u001B[31m   \u001B[0m   File \"/home/setoudie/PycharmProjects/CelebrityFacesRecognitions/ml_models/.ml_env/lib/python3.11/site-packages/setuptools/dist.py\", line 1001, in run_command\r\n",
      "  \u001B[31m   \u001B[0m     super().run_command(command)\r\n",
      "  \u001B[31m   \u001B[0m   File \"/home/setoudie/PycharmProjects/CelebrityFacesRecognitions/ml_models/.ml_env/lib/python3.11/site-packages/setuptools/_distutils/dist.py\", line 988, in run_command\r\n",
      "  \u001B[31m   \u001B[0m     cmd_obj.run()\r\n",
      "  \u001B[31m   \u001B[0m   File \"/tmp/pip-install-imtauh0z/dlib_5f88a36d391b41ebaf53bdb8a7bd4bd1/setup.py\", line 168, in run\r\n",
      "  \u001B[31m   \u001B[0m     self.build_extension(ext)\r\n",
      "  \u001B[31m   \u001B[0m   File \"/tmp/pip-install-imtauh0z/dlib_5f88a36d391b41ebaf53bdb8a7bd4bd1/setup.py\", line 206, in build_extension\r\n",
      "  \u001B[31m   \u001B[0m     subprocess.check_call(cmake_setup, cwd=build_folder)\r\n",
      "  \u001B[31m   \u001B[0m   File \"/usr/lib/python3.11/subprocess.py\", line 413, in check_call\r\n",
      "  \u001B[31m   \u001B[0m     raise CalledProcessError(retcode, cmd)\r\n",
      "  \u001B[31m   \u001B[0m subprocess.CalledProcessError: Command '['cmake', '/tmp/pip-install-imtauh0z/dlib_5f88a36d391b41ebaf53bdb8a7bd4bd1/tools/python', '-DCMAKE_LIBRARY_OUTPUT_DIRECTORY=/tmp/pip-install-imtauh0z/dlib_5f88a36d391b41ebaf53bdb8a7bd4bd1/build/lib.linux-x86_64-cpython-311', '-DPYTHON_EXECUTABLE=/home/setoudie/PycharmProjects/CelebrityFacesRecognitions/ml_models/.ml_env/bin/python', '-DDLIB_USE_FFMPEG=OFF', '-DCMAKE_BUILD_TYPE=Release']' returned non-zero exit status 1.\r\n",
      "  \u001B[31m   \u001B[0m \u001B[31m[end of output]\u001B[0m\r\n",
      "  \r\n",
      "  \u001B[1;35mnote\u001B[0m: This error originates from a subprocess, and is likely not a problem with pip.\r\n",
      "\u001B[31m  ERROR: Failed building wheel for dlib\u001B[0m\u001B[31m\r\n",
      "\u001B[0m\u001B[?25h  Running setup.py clean for dlib\r\n",
      "Failed to build dlib\r\n",
      "\u001B[31mERROR: ERROR: Failed to build installable wheels for some pyproject.toml based projects (dlib)\u001B[0m\u001B[31m\r\n",
      "\u001B[0m"
     ]
    }
   ],
   "execution_count": 4
  },
  {
   "metadata": {
    "ExecuteTime": {
     "end_time": "2024-09-07T14:35:51.274928Z",
     "start_time": "2024-09-07T14:35:51.233739Z"
    }
   },
   "cell_type": "code",
   "source": [
    "import cv2\n",
    "import matplotlib.pyplot as plt\n",
    "algo = \"ml_models/haarcascade_frontalface_default.xml\"\n",
    "\n",
    "\n",
    "haar_cascade = cv2.CascadeClassifier(algo)\n",
    "file_name = \"test_img.jpg\"\n",
    "img = cv2.imread(file_name, 0)\n",
    "\n",
    "gray_img = cv2.cvtColor(img, cv2.COLOR_BGR2RGB)\n",
    "plt.show(gray_img)\n",
    "\n",
    "faces = haar_cascade.detectMultiScale(\n",
    "    gray_img, scaleFactor=1.05, minNeighbors=5, minSize=(100, 100)\n",
    ")\n",
    "\n",
    "i = 0 \n",
    "for x, y, w, h in faces:\n",
    "    face = img[y:y+h, x:x+w]\n",
    "    target_filename = 'ml_models/'+str(i)+'.jpg'\n",
    "    \n",
    "    cv2.imwrite(\n",
    "        target_filename, \n",
    "        face,\n",
    "    )\n",
    "    i+=1"
   ],
   "id": "2bce1375c85557e6",
   "outputs": [
    {
     "name": "stderr",
     "output_type": "stream",
     "text": [
      "[ERROR:0@820.218] global persistence.cpp:531 open Can't open file: 'ml_models/haarcascade_frontalface_default.xml' in read mode\n"
     ]
    },
    {
     "ename": "error",
     "evalue": "OpenCV(4.10.0) /io/opencv/modules/objdetect/src/cascadedetect.cpp:1689: error: (-215:Assertion failed) !empty() in function 'detectMultiScale'\n",
     "output_type": "error",
     "traceback": [
      "\u001B[0;31m---------------------------------------------------------------------------\u001B[0m",
      "\u001B[0;31merror\u001B[0m                                     Traceback (most recent call last)",
      "Cell \u001B[0;32mIn[5], line 12\u001B[0m\n\u001B[1;32m      8\u001B[0m img \u001B[38;5;241m=\u001B[39m cv2\u001B[38;5;241m.\u001B[39mimread(file_name, \u001B[38;5;241m0\u001B[39m)\n\u001B[1;32m     10\u001B[0m gray_img \u001B[38;5;241m=\u001B[39m cv2\u001B[38;5;241m.\u001B[39mcvtColor(img, cv2\u001B[38;5;241m.\u001B[39mCOLOR_BGR2RGB)\n\u001B[0;32m---> 12\u001B[0m faces \u001B[38;5;241m=\u001B[39m \u001B[43mhaar_cascade\u001B[49m\u001B[38;5;241;43m.\u001B[39;49m\u001B[43mdetectMultiScale\u001B[49m\u001B[43m(\u001B[49m\n\u001B[1;32m     13\u001B[0m \u001B[43m    \u001B[49m\u001B[43mgray_img\u001B[49m\u001B[43m,\u001B[49m\u001B[43m \u001B[49m\u001B[43mscaleFactor\u001B[49m\u001B[38;5;241;43m=\u001B[39;49m\u001B[38;5;241;43m1.05\u001B[39;49m\u001B[43m,\u001B[49m\u001B[43m \u001B[49m\u001B[43mminNeighbors\u001B[49m\u001B[38;5;241;43m=\u001B[39;49m\u001B[38;5;241;43m5\u001B[39;49m\u001B[43m,\u001B[49m\u001B[43m \u001B[49m\u001B[43mminSize\u001B[49m\u001B[38;5;241;43m=\u001B[39;49m\u001B[43m(\u001B[49m\u001B[38;5;241;43m100\u001B[39;49m\u001B[43m,\u001B[49m\u001B[43m \u001B[49m\u001B[38;5;241;43m100\u001B[39;49m\u001B[43m)\u001B[49m\n\u001B[1;32m     14\u001B[0m \u001B[43m)\u001B[49m\n\u001B[1;32m     16\u001B[0m i \u001B[38;5;241m=\u001B[39m \u001B[38;5;241m0\u001B[39m \n\u001B[1;32m     17\u001B[0m \u001B[38;5;28;01mfor\u001B[39;00m x, y, w, h \u001B[38;5;129;01min\u001B[39;00m faces:\n",
      "\u001B[0;31merror\u001B[0m: OpenCV(4.10.0) /io/opencv/modules/objdetect/src/cascadedetect.cpp:1689: error: (-215:Assertion failed) !empty() in function 'detectMultiScale'\n"
     ]
    }
   ],
   "execution_count": 5
  },
  {
   "metadata": {},
   "cell_type": "code",
   "outputs": [],
   "execution_count": null,
   "source": "",
   "id": "4116d3f562ebe0c"
  }
 ],
 "metadata": {
  "kernelspec": {
   "display_name": "Python 3",
   "language": "python",
   "name": "python3"
  },
  "language_info": {
   "codemirror_mode": {
    "name": "ipython",
    "version": 2
   },
   "file_extension": ".py",
   "mimetype": "text/x-python",
   "name": "python",
   "nbconvert_exporter": "python",
   "pygments_lexer": "ipython2",
   "version": "2.7.6"
  }
 },
 "nbformat": 4,
 "nbformat_minor": 5
}
